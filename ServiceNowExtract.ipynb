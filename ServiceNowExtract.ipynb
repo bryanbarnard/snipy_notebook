{
 "cells": [
  {
   "cell_type": "code",
   "execution_count": 9,
   "metadata": {
    "collapsed": true,
    "ExecuteTime": {
     "end_time": "2023-05-23T19:09:31.991978Z",
     "start_time": "2023-05-23T19:09:29.345735Z"
    }
   },
   "outputs": [
    {
     "name": "stdout",
     "output_type": "stream",
     "text": [
      "Requirement already satisfied: requests in /Users/bryanbarnard/Dev/Python/sandbox/notebooks/lib/python3.9/site-packages (2.30.0)\r\n",
      "Requirement already satisfied: charset-normalizer<4,>=2 in /Users/bryanbarnard/Dev/Python/sandbox/notebooks/lib/python3.9/site-packages (from requests) (3.1.0)\r\n",
      "Requirement already satisfied: idna<4,>=2.5 in /Users/bryanbarnard/Dev/Python/sandbox/notebooks/lib/python3.9/site-packages (from requests) (3.4)\r\n",
      "Requirement already satisfied: urllib3<3,>=1.21.1 in /Users/bryanbarnard/Dev/Python/sandbox/notebooks/lib/python3.9/site-packages (from requests) (2.0.2)\r\n",
      "Requirement already satisfied: certifi>=2017.4.17 in /Users/bryanbarnard/Dev/Python/sandbox/notebooks/lib/python3.9/site-packages (from requests) (2022.12.7)\r\n",
      "Requirement already satisfied: pandas in /Users/bryanbarnard/Dev/Python/sandbox/notebooks/lib/python3.9/site-packages (2.0.1)\r\n",
      "Requirement already satisfied: python-dateutil>=2.8.2 in /Users/bryanbarnard/Dev/Python/sandbox/notebooks/lib/python3.9/site-packages (from pandas) (2.8.2)\r\n",
      "Requirement already satisfied: pytz>=2020.1 in /Users/bryanbarnard/Dev/Python/sandbox/notebooks/lib/python3.9/site-packages (from pandas) (2023.3)\r\n",
      "Requirement already satisfied: tzdata>=2022.1 in /Users/bryanbarnard/Dev/Python/sandbox/notebooks/lib/python3.9/site-packages (from pandas) (2023.3)\r\n",
      "Requirement already satisfied: numpy>=1.20.3 in /Users/bryanbarnard/Dev/Python/sandbox/notebooks/lib/python3.9/site-packages (from pandas) (1.24.3)\r\n",
      "Requirement already satisfied: six>=1.5 in /Users/bryanbarnard/Dev/Python/sandbox/notebooks/lib/python3.9/site-packages (from python-dateutil>=2.8.2->pandas) (1.16.0)\r\n",
      "Requirement already satisfied: numpy in /Users/bryanbarnard/Dev/Python/sandbox/notebooks/lib/python3.9/site-packages (1.24.3)\r\n"
     ]
    }
   ],
   "source": [
    "!pip install requests\n",
    "!pip install pandas\n",
    "!pip install numpy\n",
    "\n",
    "import requests\n",
    "import pandas as pd\n",
    "import numpy"
   ]
  },
  {
   "cell_type": "code",
   "execution_count": 10,
   "outputs": [],
   "source": [
    "# Set the request parameters\n",
    "url = 'https://<replace>.service-now.com/api/now/table/incident?sysparm_query=active%3Dtrue&sysparm_display_value=true'\n",
    "\n",
    "# Eg. User name=\"admin\", Password=\"admin\" for this code sample.\n",
    "user = 'admin'\n",
    "pwd = 'admin'\n",
    "\n",
    "# Set proper headers\n",
    "headers = {\"Content-Type\":\"application/json\",\"Accept\":\"application/json\"}\n",
    "\n",
    "# Do the HTTP request\n",
    "response = requests.get(url, auth=(user, pwd), headers=headers )\n",
    "\n",
    "# Check for HTTP codes other than 200\n",
    "if response.status_code != 200:\n",
    "    print('Status:', response.status_code, 'Headers:', response.headers, 'Error Response:',response.json())\n",
    "    exit()\n",
    "\n",
    "# Decode the JSON response into a dictionary and use the data\n",
    "data = response.json()\n",
    "df = pd.DataFrame(data['result'])\n",
    "\n",
    "\n"
   ],
   "metadata": {
    "collapsed": false,
    "ExecuteTime": {
     "end_time": "2023-05-23T19:09:34.572086Z",
     "start_time": "2023-05-23T19:09:33.857922Z"
    }
   }
  },
  {
   "cell_type": "code",
   "execution_count": 19,
   "outputs": [
    {
     "data": {
      "text/plain": "['promoted_by',\n 'parent',\n 'caused_by',\n 'watch_list',\n 'upon_reject',\n 'sys_updated_on',\n 'origin_table',\n 'approval_history',\n 'skills',\n 'number',\n 'proposed_by',\n 'lessons_learned',\n 'state',\n 'sys_created_by',\n 'knowledge',\n 'order',\n 'cmdb_ci',\n 'delivery_plan',\n 'contract',\n 'impact',\n 'active',\n 'work_notes_list',\n 'priority',\n 'sys_domain_path',\n 'business_duration',\n 'group_list',\n 'approval_set',\n 'major_incident_state',\n 'universal_request',\n 'short_description',\n 'correlation_display',\n 'delivery_task',\n 'work_start',\n 'trigger_rule',\n 'additional_assignee_list',\n 'notify',\n 'service_offering',\n 'sys_class_name',\n 'closed_by',\n 'follow_up',\n 'parent_incident',\n 'reopened_by',\n 'reassignment_count',\n 'assigned_to',\n 'sla_due',\n 'comments_and_work_notes',\n 'escalation',\n 'upon_approval',\n 'correlation_id',\n 'timeline',\n 'made_sla',\n 'promoted_on',\n 'sn_esign_document',\n 'child_incidents',\n 'hold_reason',\n 'task_effective_number',\n 'resolved_by',\n 'sys_updated_by',\n 'opened_by',\n 'user_input',\n 'sys_created_on',\n 'sys_domain',\n 'proposed_on',\n 'actions_taken',\n 'route_reason',\n 'calendar_stc',\n 'closed_at',\n 'business_service',\n 'business_impact',\n 'rfc',\n 'time_worked',\n 'expected_start',\n 'opened_at',\n 'work_end',\n 'caller_id',\n 'reopened_time',\n 'resolved_at',\n 'subcategory',\n 'work_notes',\n 'close_code',\n 'assignment_group',\n 'business_stc',\n 'cause',\n 'description',\n 'origin_id',\n 'calendar_duration',\n 'close_notes',\n 'sys_id',\n 'contact_type',\n 'sn_esign_esignature_configuration',\n 'incident_state',\n 'urgency',\n 'problem_id',\n 'company',\n 'activity_due',\n 'severity',\n 'overview',\n 'comments',\n 'approval',\n 'due_date',\n 'sys_mod_count',\n 'reopen_count',\n 'sys_tags',\n 'location',\n 'category']"
     },
     "execution_count": 19,
     "metadata": {},
     "output_type": "execute_result"
    }
   ],
   "source": [
    "df.columns.tolist()"
   ],
   "metadata": {
    "collapsed": false,
    "ExecuteTime": {
     "end_time": "2023-05-23T19:12:00.511214Z",
     "start_time": "2023-05-23T19:12:00.509096Z"
    }
   }
  },
  {
   "cell_type": "code",
   "execution_count": null,
   "outputs": [],
   "source": [],
   "metadata": {
    "collapsed": false
   }
  }
 ],
 "metadata": {
  "kernelspec": {
   "display_name": "Python 3",
   "language": "python",
   "name": "python3"
  },
  "language_info": {
   "codemirror_mode": {
    "name": "ipython",
    "version": 2
   },
   "file_extension": ".py",
   "mimetype": "text/x-python",
   "name": "python",
   "nbconvert_exporter": "python",
   "pygments_lexer": "ipython2",
   "version": "2.7.6"
  }
 },
 "nbformat": 4,
 "nbformat_minor": 0
}

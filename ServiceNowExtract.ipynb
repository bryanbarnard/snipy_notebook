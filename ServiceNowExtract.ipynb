!pip install requests
!pip install pandas
!pip install numpy

import requests
import pandas as pd
import numpy

# Set the request parameters
url = 'https://<replace>.service-now.com/api/now/table/incident?sysparm_query=active%3Dtrue&sysparm_display_value=true'

# Eg. User name="admin", Password="admin" for this code sample.
user = 'admin'
pwd = 'admin'

# Set proper headers
headers = {"Content-Type":"application/json","Accept":"application/json"}

# Do the HTTP request
response = requests.get(url, auth=(user, pwd), headers=headers )

# Check for HTTP codes other than 200
if response.status_code != 200:
    print('Status:', response.status_code, 'Headers:', response.headers, 'Error Response:',response.json())
    exit()

# Decode the JSON response into a dictionary and use the data
data = response.json()
df = pd.DataFrame(data['result'])

df.columns.tolist()
